{
 "cells": [
  {
   "cell_type": "markdown",
   "metadata": {},
   "source": [
    "### Basics of creating test data and using Histogram\n",
    "\n",
    "Cover creating and visualizing an distributed set of data.\n"
   ]
  },
  {
   "cell_type": "code",
   "execution_count": 52,
   "metadata": {},
   "outputs": [],
   "source": [
    "# Load libraries\n",
    "library(dplyr)\n",
    "\n",
    "# Set up number of Observations that will will play with\n",
    "num_trials = 1000000  # 1M\n",
    "\n",
    "# Create a Numeric Vector to store the RBeta values\n",
    "true_average = rbeta(num_trials, 81, 219)\n",
    "\n",
    "#Create a Numeric Vector to store the RBinom Hits values\n",
    "hits <- rbinom(num_trials, 300, true_average)\n",
    "\n",
    "\n",
    "\n"
   ]
  },
  {
   "cell_type": "markdown",
   "metadata": {},
   "source": []
  },
  {
   "cell_type": "markdown",
   "metadata": {},
   "source": [
    "*******\n",
    "#### Now let's take a look at our objects.\n",
    "\n",
    "* Note that there is a max amount of data elements that Jupyter will print out.  Mine was around 15k, your mileage may vary.\n",
    "\n"
   ]
  },
  {
   "cell_type": "code",
   "execution_count": 53,
   "metadata": {},
   "outputs": [
    {
     "data": {
      "text/html": [
       "'numeric'"
      ],
      "text/latex": [
       "'numeric'"
      ],
      "text/markdown": [
       "'numeric'"
      ],
      "text/plain": [
       "[1] \"numeric\""
      ]
     },
     "metadata": {},
     "output_type": "display_data"
    },
    {
     "data": {
      "text/html": [
       "'integer'"
      ],
      "text/latex": [
       "'integer'"
      ],
      "text/markdown": [
       "'integer'"
      ],
      "text/plain": [
       "[1] \"integer\""
      ]
     },
     "metadata": {},
     "output_type": "display_data"
    },
    {
     "data": {
      "text/html": [
       "1000000"
      ],
      "text/latex": [
       "1000000"
      ],
      "text/markdown": [
       "1000000"
      ],
      "text/plain": [
       "[1] 1000000"
      ]
     },
     "metadata": {},
     "output_type": "display_data"
    },
    {
     "data": {
      "text/html": [
       "1000000"
      ],
      "text/latex": [
       "1000000"
      ],
      "text/markdown": [
       "1000000"
      ],
      "text/plain": [
       "[1] 1000000"
      ]
     },
     "metadata": {},
     "output_type": "display_data"
    },
    {
     "data": {
      "text/html": [
       "<ol class=list-inline>\n",
       "\t<li>0.256920325534475</li>\n",
       "\t<li>0.31348936463786</li>\n",
       "\t<li>0.260689211482111</li>\n",
       "\t<li>0.285781730709953</li>\n",
       "\t<li>0.24773193170286</li>\n",
       "\t<li>0.267887597117335</li>\n",
       "\t<li>0.224053437665732</li>\n",
       "\t<li>0.282685044747037</li>\n",
       "\t<li>0.271294991880423</li>\n",
       "\t<li>0.286671431223983</li>\n",
       "</ol>\n"
      ],
      "text/latex": [
       "\\begin{enumerate*}\n",
       "\\item 0.256920325534475\n",
       "\\item 0.31348936463786\n",
       "\\item 0.260689211482111\n",
       "\\item 0.285781730709953\n",
       "\\item 0.24773193170286\n",
       "\\item 0.267887597117335\n",
       "\\item 0.224053437665732\n",
       "\\item 0.282685044747037\n",
       "\\item 0.271294991880423\n",
       "\\item 0.286671431223983\n",
       "\\end{enumerate*}\n"
      ],
      "text/markdown": [
       "1. 0.256920325534475\n",
       "2. 0.31348936463786\n",
       "3. 0.260689211482111\n",
       "4. 0.285781730709953\n",
       "5. 0.24773193170286\n",
       "6. 0.267887597117335\n",
       "7. 0.224053437665732\n",
       "8. 0.282685044747037\n",
       "9. 0.271294991880423\n",
       "10. 0.286671431223983\n",
       "\n",
       "\n"
      ],
      "text/plain": [
       " [1] 0.2569203 0.3134894 0.2606892 0.2857817 0.2477319 0.2678876 0.2240534\n",
       " [8] 0.2826850 0.2712950 0.2866714"
      ]
     },
     "metadata": {},
     "output_type": "display_data"
    },
    {
     "data": {
      "text/html": [
       "<ol class=list-inline>\n",
       "\t<li>78</li>\n",
       "\t<li>102</li>\n",
       "\t<li>69</li>\n",
       "\t<li>95</li>\n",
       "\t<li>77</li>\n",
       "\t<li>70</li>\n",
       "\t<li>72</li>\n",
       "\t<li>77</li>\n",
       "\t<li>88</li>\n",
       "\t<li>82</li>\n",
       "</ol>\n"
      ],
      "text/latex": [
       "\\begin{enumerate*}\n",
       "\\item 78\n",
       "\\item 102\n",
       "\\item 69\n",
       "\\item 95\n",
       "\\item 77\n",
       "\\item 70\n",
       "\\item 72\n",
       "\\item 77\n",
       "\\item 88\n",
       "\\item 82\n",
       "\\end{enumerate*}\n"
      ],
      "text/markdown": [
       "1. 78\n",
       "2. 102\n",
       "3. 69\n",
       "4. 95\n",
       "5. 77\n",
       "6. 70\n",
       "7. 72\n",
       "8. 77\n",
       "9. 88\n",
       "10. 82\n",
       "\n",
       "\n"
      ],
      "text/plain": [
       " [1]  78 102  69  95  77  70  72  77  88  82"
      ]
     },
     "metadata": {},
     "output_type": "display_data"
    },
    {
     "name": "stdout",
     "output_type": "stream",
     "text": [
      "[1] \"true_average summary\"\n"
     ]
    },
    {
     "data": {
      "text/plain": [
       "   Min. 1st Qu.  Median    Mean 3rd Qu.    Max. \n",
       " 0.1542  0.2524  0.2694  0.2700  0.2870  0.3994 "
      ]
     },
     "metadata": {},
     "output_type": "display_data"
    },
    {
     "name": "stdout",
     "output_type": "stream",
     "text": [
      "[1] \"hits summary\"\n"
     ]
    },
    {
     "data": {
      "text/plain": [
       "   Min. 1st Qu.  Median    Mean 3rd Qu.    Max. \n",
       "  35.00   74.00   81.00   80.99   88.00  143.00 "
      ]
     },
     "metadata": {},
     "output_type": "display_data"
    }
   ],
   "source": [
    "# What are the class types\n",
    "class(true_average)\n",
    "class(hits)\n",
    "\n",
    "# What are the lengths of our Vectors?\n",
    "length(true_average)\n",
    "length(hits)\n",
    "\n",
    "# Just spit out the first 10 in the Vectors\n",
    "true_average[1:10]\n",
    "hits[1:10]\n",
    "\n",
    "# Show the summary of each Vector\n",
    "print(\"true_average summary\")\n",
    "summary(true_average)\n",
    "print(\"hits summary\")\n",
    "summary(hits)\n"
   ]
  },
  {
   "cell_type": "markdown",
   "metadata": {},
   "source": [
    "***\n",
    "#### Visualize the Vectors"
   ]
  },
  {
   "cell_type": "code",
   "execution_count": 54,
   "metadata": {},
   "outputs": [
    {
     "data": {
      "image/png": "[encoded data removed]",
      "text/plain": [
       "Plot with title \"Histogram of hits\""
      ]
     },
     "metadata": {},
     "output_type": "display_data"
    },
    {
     "data": {
      "image/png": "[encoded data removed]",
      "text/plain": [
       "Plot with title \"Histogram of true_average\""
      ]
     },
     "metadata": {},
     "output_type": "display_data"
    }
   ],
   "source": [
    "hist(hits, prob=TRUE)\n",
    "hist(true_average, prob=TRUE)"
   ]
  },
  {
   "cell_type": "markdown",
   "metadata": {},
   "source": [
    "***\n",
    "#### Create a DataFrame from our 2 Vectors\n",
    "Examine the resulting object and compare values with our previous results.  They are the same."
   ]
  },
  {
   "cell_type": "code",
   "execution_count": 55,
   "metadata": {},
   "outputs": [
    {
     "data": {
      "text/html": [
       "<ol class=list-inline>\n",
       "\t<li>'tbl_df'</li>\n",
       "\t<li>'tbl'</li>\n",
       "\t<li>'data.frame'</li>\n",
       "</ol>\n"
      ],
      "text/latex": [
       "\\begin{enumerate*}\n",
       "\\item 'tbl\\_df'\n",
       "\\item 'tbl'\n",
       "\\item 'data.frame'\n",
       "\\end{enumerate*}\n"
      ],
      "text/markdown": [
       "1. 'tbl_df'\n",
       "2. 'tbl'\n",
       "3. 'data.frame'\n",
       "\n",
       "\n"
      ],
      "text/plain": [
       "[1] \"tbl_df\"     \"tbl\"        \"data.frame\""
      ]
     },
     "metadata": {},
     "output_type": "display_data"
    },
    {
     "data": {
      "text/plain": [
       "  true_average         hits       \n",
       " Min.   :0.1542   Min.   : 35.00  \n",
       " 1st Qu.:0.2524   1st Qu.: 74.00  \n",
       " Median :0.2694   Median : 81.00  \n",
       " Mean   :0.2700   Mean   : 80.99  \n",
       " 3rd Qu.:0.2870   3rd Qu.: 88.00  \n",
       " Max.   :0.3994   Max.   :143.00  "
      ]
     },
     "metadata": {},
     "output_type": "display_data"
    },
    {
     "data": {
      "text/html": [
       "2"
      ],
      "text/latex": [
       "2"
      ],
      "text/markdown": [
       "2"
      ],
      "text/plain": [
       "[1] 2"
      ]
     },
     "metadata": {},
     "output_type": "display_data"
    }
   ],
   "source": [
    "df <- data_frame(true_average = true_average, hits = hits)\n",
    "class(df)\n",
    "summary(df)\n",
    "length(df)"
   ]
  },
  {
   "cell_type": "markdown",
   "metadata": {},
   "source": [
    "***\n",
    "#### Visualize the DataFrame\n",
    "Note that this is a bit different than using a Vector.  You must specify which Vector/Column of the DataFrame that you want to visualize.\n",
    "Also add a Density Curve to the viz."
   ]
  },
  {
   "cell_type": "code",
   "execution_count": 56,
   "metadata": {},
   "outputs": [
    {
     "data": {
      "image/png": "[encoded data removed]",
      "text/plain": [
       "Plot with title \"Histogram of df$true_average\""
      ]
     },
     "metadata": {},
     "output_type": "display_data"
    }
   ],
   "source": [
    "hist(df$true_average, prob=TRUE)\n",
    "\n",
    "# Add density curve\n",
    "lines(density(df$true_average))"
   ]
  },
  {
   "cell_type": "markdown",
   "metadata": {},
   "source": [
    "More information on Histogram can be found at DataCamp\n",
    "https://www.datacamp.com/community/tutorials/make-histogram-basic-r\n"
   ]
  }
 ],
 "metadata": {
  "kernelspec": {
   "display_name": "R",
   "language": "R",
   "name": "ir"
  },
  "language_info": {
   "codemirror_mode": "r",
   "file_extension": ".r",
   "mimetype": "text/x-r-source",
   "name": "R",
   "pygments_lexer": "r",
   "version": "3.3.2"
  }
 },
 "nbformat": 4,
 "nbformat_minor": 2
}
