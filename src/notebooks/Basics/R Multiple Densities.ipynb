{
 "cells": [
  {
   "cell_type": "markdown",
   "metadata": {},
   "source": [
    "### Multiple Densities\n",
    "\n",
    "Thought that this was interesting enough to put in its own notebook.  \n",
    "\n",
    "Filter and plot.\n",
    "Description of data set up can be found here:  \n",
    "https://github.com/slogmaverick/StataTuba/blob/master/src/notebooks/Basics/R%20Basics%201.ipynb\n"
   ]
  },
  {
   "cell_type": "code",
   "execution_count": 1,
   "metadata": {},
   "outputs": [
    {
     "name": "stderr",
     "output_type": "stream",
     "text": [
      "\n",
      "Attaching package: 'dplyr'\n",
      "\n",
      "The following objects are masked from 'package:stats':\n",
      "\n",
      "    filter, lag\n",
      "\n",
      "The following objects are masked from 'package:base':\n",
      "\n",
      "    intersect, setdiff, setequal, union\n",
      "\n"
     ]
    }
   ],
   "source": [
    "# Initialize the DataFrame.\n",
    "library(dplyr)\n",
    "library(ggplot2)\n",
    "num_trials = 1000000 # 1M\n",
    "df <- data_frame(true_average = rbeta(num_trials, 81, 219), hits = rbinom(num_trials, 300, true_average))"
   ]
  },
  {
   "cell_type": "markdown",
   "metadata": {},
   "source": [
    "***\n",
    "#### Filter Data Frame\n",
    "\n",
    "Filter out just the hits between 40-100 to see how they look.  As always, take a look at the "
   ]
  },
  {
   "cell_type": "code",
   "execution_count": 2,
   "metadata": {},
   "outputs": [
    {
     "data": {
      "text/plain": [
       "  true_average         hits       \n",
       " Min.   :0.1600   Min.   : 40.00  \n",
       " 1st Qu.:0.2521   1st Qu.: 70.00  \n",
       " Median :0.2691   Median : 80.00  \n",
       " Mean   :0.2694   Mean   : 80.57  \n",
       " 3rd Qu.:0.2863   3rd Qu.: 90.00  \n",
       " Max.   :0.3837   Max.   :100.00  "
      ]
     },
     "metadata": {},
     "output_type": "display_data"
    },
    {
     "data": {
      "text/html": [
       "98417"
      ],
      "text/latex": [
       "98417"
      ],
      "text/markdown": [
       "98417"
      ],
      "text/plain": [
       "[1] 98417"
      ]
     },
     "metadata": {},
     "output_type": "display_data"
    },
    {
     "data": {},
     "metadata": {},
     "output_type": "display_data"
    },
    {
     "data": {
      "image/png": "[encoded data removed]",
      "text/plain": [
       "plot without title"
      ]
     },
     "metadata": {},
     "output_type": "display_data"
    }
   ],
   "source": [
    "# filter out just hits between 40-100 in 10 hit increments\n",
    "df_hits_filtered <- df %>% filter(hits %in% c(40,50,60,70,80,90,100))\n",
    "summary(df_hits_filtered)\n",
    "length(df_hits_filtered$hits)\n",
    "\n",
    "df_hits_filtered %>% ggplot( aes( true_average, color = factor( hits))) + geom_density() + labs( x = \"True average of players with H hits / 300 at-bats\", color = \"H\")\n"
   ]
  },
  {
   "cell_type": "markdown",
   "metadata": {},
   "source": [
    "#### Confirmation\n",
    "\n",
    "The viz looks a little skewed at the start to me.  It probably has something to do with sample size at the lower numbers, let's validate what we are seeing.\n",
    "\n",
    "Group the filtered dataset to show how many records there are for each Hits value."
   ]
  },
  {
   "cell_type": "code",
   "execution_count": 6,
   "metadata": {},
   "outputs": [
    {
     "data": {
      "text/html": [
       "<table>\n",
       "<thead><tr><th scope=col>Hit Count</th><th scope=col>true_average</th><th scope=col>hits</th></tr></thead>\n",
       "<tbody>\n",
       "\t<tr><td> 40  </td><td>    5</td><td>    5</td></tr>\n",
       "\t<tr><td> 50  </td><td>  387</td><td>  387</td></tr>\n",
       "\t<tr><td> 60  </td><td> 5419</td><td> 5419</td></tr>\n",
       "\t<tr><td> 70  </td><td>23198</td><td>23198</td></tr>\n",
       "\t<tr><td> 80  </td><td>36509</td><td>36509</td></tr>\n",
       "\t<tr><td> 90  </td><td>24933</td><td>24933</td></tr>\n",
       "\t<tr><td>100  </td><td> 7966</td><td> 7966</td></tr>\n",
       "</tbody>\n",
       "</table>\n"
      ],
      "text/latex": [
       "\\begin{tabular}{r|lll}\n",
       " Hit Count & true\\_average & hits\\\\\n",
       "\\hline\n",
       "\t  40   &     5 &     5\\\\\n",
       "\t  50   &   387 &   387\\\\\n",
       "\t  60   &  5419 &  5419\\\\\n",
       "\t  70   & 23198 & 23198\\\\\n",
       "\t  80   & 36509 & 36509\\\\\n",
       "\t  90   & 24933 & 24933\\\\\n",
       "\t 100   &  7966 &  7966\\\\\n",
       "\\end{tabular}\n"
      ],
      "text/plain": [
       "  Hit Count true_average hits \n",
       "1  40           5            5\n",
       "2  50         387          387\n",
       "3  60        5419         5419\n",
       "4  70       23198        23198\n",
       "5  80       36509        36509\n",
       "6  90       24933        24933\n",
       "7 100        7966         7966"
      ]
     },
     "metadata": {},
     "output_type": "display_data"
    },
    {
     "data": {
      "text/html": [
       "<table>\n",
       "<thead><tr><th scope=col>true_average</th><th scope=col>hits</th></tr></thead>\n",
       "<tbody>\n",
       "\t<tr><td>0.2416777</td><td>40       </td></tr>\n",
       "\t<tr><td>0.2430605</td><td>40       </td></tr>\n",
       "\t<tr><td>0.2104911</td><td>40       </td></tr>\n",
       "\t<tr><td>0.1946545</td><td>40       </td></tr>\n",
       "\t<tr><td>0.2201971</td><td>40       </td></tr>\n",
       "</tbody>\n",
       "</table>\n"
      ],
      "text/latex": [
       "\\begin{tabular}{r|ll}\n",
       " true\\_average & hits\\\\\n",
       "\\hline\n",
       "\t 0.2416777 & 40       \\\\\n",
       "\t 0.2430605 & 40       \\\\\n",
       "\t 0.2104911 & 40       \\\\\n",
       "\t 0.1946545 & 40       \\\\\n",
       "\t 0.2201971 & 40       \\\\\n",
       "\\end{tabular}\n"
      ],
      "text/plain": [
       "  true_average hits\n",
       "1 0.2416777    40  \n",
       "2 0.2430605    40  \n",
       "3 0.2104911    40  \n",
       "4 0.1946545    40  \n",
       "5 0.2201971    40  "
      ]
     },
     "metadata": {},
     "output_type": "display_data"
    },
    {
     "data": {
      "text/html": [
       "5"
      ],
      "text/latex": [
       "5"
      ],
      "text/markdown": [
       "5"
      ],
      "text/plain": [
       "[1] 5"
      ]
     },
     "metadata": {},
     "output_type": "display_data"
    }
   ],
   "source": [
    "# Use the aggregate function to group the dataframe by Hits and add the length\n",
    "hits_grouped <- aggregate(df_hits_filtered, by=list('Hit Count' = df_hits_filtered$hits), FUN=length)\n",
    "hits_grouped\n",
    "\n",
    "# Filter by just 40 hits and list out every value.\n",
    "hits_40 <- df %>% filter(hits == 40)\n",
    "hits_40\n",
    "length(hits_40$hits)\n",
    "\n"
   ]
  },
  {
   "cell_type": "code",
   "execution_count": null,
   "metadata": {
    "collapsed": true
   },
   "outputs": [],
   "source": []
  }
 ],
 "metadata": {
  "kernelspec": {
   "display_name": "R",
   "language": "R",
   "name": "ir"
  },
  "language_info": {
   "codemirror_mode": "r",
   "file_extension": ".r",
   "mimetype": "text/x-r-source",
   "name": "R",
   "pygments_lexer": "r",
   "version": "3.3.2"
  }
 },
 "nbformat": 4,
 "nbformat_minor": 2
}
