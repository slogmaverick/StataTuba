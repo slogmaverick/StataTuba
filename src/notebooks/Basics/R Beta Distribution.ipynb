{
 "cells": [
  {
   "cell_type": "markdown",
   "metadata": {},
   "source": [
    "### Beta Distribution\n",
    "\n",
    "Create a function to return Alpha and Beta values to use for a Beta Distribution.\n"
   ]
  },
  {
   "cell_type": "code",
   "execution_count": 10,
   "metadata": {},
   "outputs": [
    {
     "data": {
      "text/plain": [
       "   Min. 1st Qu.  Median    Mean 3rd Qu.    Max. \n",
       " 0.1565  0.2526  0.2696  0.2701  0.2871  0.4233 "
      ]
     },
     "metadata": {},
     "output_type": "display_data"
    }
   ],
   "source": [
    "# Set up number of Observations that will will play with\n",
    "num_trials = 1000000  # 1M\n",
    "\n",
    "# First generate vector of normally distributed batting averages between .21 and .35\n",
    "true_average = rbeta(num_trials, 81, 219)\n",
    "summary(true_average)\n"
   ]
  },
  {
   "cell_type": "markdown",
   "metadata": {},
   "source": [
    "***\n",
    "#### Work Backwards to Validate\n",
    "\n",
    "Let's work backwards in order to prove that 81 and 219 are correct.\n",
    "\n",
    "We'll want the Mean and Variance in order to generate the Alpha and Beta variables.\n"
   ]
  },
  {
   "cell_type": "code",
   "execution_count": 11,
   "metadata": {},
   "outputs": [
    {
     "data": {
      "text/html": [
       "0.270091433739135"
      ],
      "text/latex": [
       "0.270091433739135"
      ],
      "text/markdown": [
       "0.270091433739135"
      ],
      "text/plain": [
       "[1] 0.2700914"
      ]
     },
     "metadata": {},
     "output_type": "display_data"
    },
    {
     "data": {
      "text/html": [
       "0.000654734232951989"
      ],
      "text/latex": [
       "0.000654734232951989"
      ],
      "text/markdown": [
       "0.000654734232951989"
      ],
      "text/plain": [
       "[1] 0.0006547342"
      ]
     },
     "metadata": {},
     "output_type": "display_data"
    }
   ],
   "source": [
    "# Get the Mean\n",
    "mn <- mean(true_average)\n",
    "mn\n",
    "\n",
    "# Get the Variance\n",
    "vr <- var(true_average)\n",
    "vr\n"
   ]
  },
  {
   "cell_type": "markdown",
   "metadata": {},
   "source": [
    "***\n",
    "#### Create Beta Parameters Function\n",
    "\n",
    "This function will return the Alpha and Beta parameters that we need for the Beta Distribution.  It requires the Mean and Variance of our Vector.\n",
    "\n",
    "Function was taken verbatim from:\n",
    "https://stats.stackexchange.com/questions/12232/calculating-the-parameters-of-a-beta-distribution-using-the-mean-and-variance\n"
   ]
  },
  {
   "cell_type": "code",
   "execution_count": 12,
   "metadata": {
    "collapsed": true
   },
   "outputs": [],
   "source": [
    "estBetaParms <- function(mu, var) {\n",
    "  alpha <- ((1 - mu) / var - 1 / mu) * mu ^ 2\n",
    "  beta <- alpha * (1 / mu - 1)\n",
    "  return(params = list(alpha = alpha, beta = beta))\n",
    "}"
   ]
  },
  {
   "cell_type": "markdown",
   "metadata": {},
   "source": [
    "***\n",
    "#### Validate Beta Parameters\n",
    "\n",
    "Run the function to see if the parameters match what we initialized our Vector with."
   ]
  },
  {
   "cell_type": "code",
   "execution_count": 13,
   "metadata": {},
   "outputs": [
    {
     "data": {
      "text/html": [
       "81.0550884151487"
      ],
      "text/latex": [
       "81.0550884151487"
      ],
      "text/markdown": [
       "81.0550884151487"
      ],
      "text/plain": [
       "[1] 81.05509"
      ]
     },
     "metadata": {},
     "output_type": "display_data"
    },
    {
     "data": {
      "text/html": [
       "219.047315030326"
      ],
      "text/latex": [
       "219.047315030326"
      ],
      "text/markdown": [
       "219.047315030326"
      ],
      "text/plain": [
       "[1] 219.0473"
      ]
     },
     "metadata": {},
     "output_type": "display_data"
    }
   ],
   "source": [
    "parms <- estBetaParms(mn, vr)\n",
    "parms$alpha\n",
    "parms$beta"
   ]
  },
  {
   "cell_type": "code",
   "execution_count": null,
   "metadata": {
    "collapsed": true
   },
   "outputs": [],
   "source": []
  }
 ],
 "metadata": {
  "kernelspec": {
   "display_name": "R",
   "language": "R",
   "name": "ir"
  },
  "language_info": {
   "codemirror_mode": "r",
   "file_extension": ".r",
   "mimetype": "text/x-r-source",
   "name": "R",
   "pygments_lexer": "r",
   "version": "3.3.2"
  }
 },
 "nbformat": 4,
 "nbformat_minor": 2
}
